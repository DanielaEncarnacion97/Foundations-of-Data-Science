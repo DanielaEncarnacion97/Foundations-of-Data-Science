{
 "cells": [
  {
   "cell_type": "markdown",
   "metadata": {},
   "source": [
    "*Replace this text with your own name and a brief description of what this notebook does.*"
   ]
  },
  {
   "cell_type": "markdown",
   "metadata": {},
   "source": [
    "## Assignment 7\n",
    "\n",
    "This assignment will use the green taxi trip dataset you downloaded and used in labs 3 and 4.\n",
    "\n",
    "Write a piece of code that generates a histogram of the fare amount, which is the amount before tolls, taxes, and tips are added.  Label the x and y axes of your plot and add a title.  "
   ]
  },
  {
   "cell_type": "code",
   "execution_count": 1,
   "metadata": {},
   "outputs": [],
   "source": [
    "import matplotlib.pyplot as plt\n",
    "import pandas as pd\n",
    "%matplotlib inline"
   ]
  },
  {
   "cell_type": "code",
   "execution_count": 2,
   "metadata": {},
   "outputs": [],
   "source": [
    "taxi = pd.read_csv(\"2017_Green_Taxi_Trip_Data.csv\",parse_dates= [\"lpep_pickup_datetime\", \"lpep_dropoff_datetime\"])"
   ]
  },
  {
   "cell_type": "code",
   "execution_count": 3,
   "metadata": {},
   "outputs": [
    {
     "data": {
      "text/html": [
       "<div>\n",
       "<style scoped>\n",
       "    .dataframe tbody tr th:only-of-type {\n",
       "        vertical-align: middle;\n",
       "    }\n",
       "\n",
       "    .dataframe tbody tr th {\n",
       "        vertical-align: top;\n",
       "    }\n",
       "\n",
       "    .dataframe thead th {\n",
       "        text-align: right;\n",
       "    }\n",
       "</style>\n",
       "<table border=\"1\" class=\"dataframe\">\n",
       "  <thead>\n",
       "    <tr style=\"text-align: right;\">\n",
       "      <th></th>\n",
       "      <th>VendorID</th>\n",
       "      <th>lpep_pickup_datetime</th>\n",
       "      <th>lpep_dropoff_datetime</th>\n",
       "      <th>store_and_fwd_flag</th>\n",
       "      <th>RatecodeID</th>\n",
       "      <th>PULocationID</th>\n",
       "      <th>DOLocationID</th>\n",
       "      <th>passenger_count</th>\n",
       "      <th>trip_distance</th>\n",
       "      <th>fare_amount</th>\n",
       "      <th>extra</th>\n",
       "      <th>mta_tax</th>\n",
       "      <th>tip_amount</th>\n",
       "      <th>tolls_amount</th>\n",
       "      <th>ehail_fee</th>\n",
       "      <th>improvement_surcharge</th>\n",
       "      <th>total_amount</th>\n",
       "      <th>payment_type</th>\n",
       "      <th>trip_type</th>\n",
       "    </tr>\n",
       "  </thead>\n",
       "  <tbody>\n",
       "    <tr>\n",
       "      <th>0</th>\n",
       "      <td>2</td>\n",
       "      <td>2017-02-05 00:00:00</td>\n",
       "      <td>2017-02-05 00:00:00</td>\n",
       "      <td>N</td>\n",
       "      <td>1</td>\n",
       "      <td>181</td>\n",
       "      <td>181</td>\n",
       "      <td>1</td>\n",
       "      <td>1.34</td>\n",
       "      <td>7.0</td>\n",
       "      <td>0.5</td>\n",
       "      <td>0.5</td>\n",
       "      <td>0.00</td>\n",
       "      <td>0.0</td>\n",
       "      <td>NaN</td>\n",
       "      <td>0.3</td>\n",
       "      <td>8.30</td>\n",
       "      <td>2</td>\n",
       "      <td>1</td>\n",
       "    </tr>\n",
       "    <tr>\n",
       "      <th>1</th>\n",
       "      <td>2</td>\n",
       "      <td>2017-02-05 00:00:00</td>\n",
       "      <td>2017-02-05 00:00:00</td>\n",
       "      <td>N</td>\n",
       "      <td>1</td>\n",
       "      <td>7</td>\n",
       "      <td>82</td>\n",
       "      <td>1</td>\n",
       "      <td>5.61</td>\n",
       "      <td>20.0</td>\n",
       "      <td>0.0</td>\n",
       "      <td>0.5</td>\n",
       "      <td>2.08</td>\n",
       "      <td>0.0</td>\n",
       "      <td>NaN</td>\n",
       "      <td>0.3</td>\n",
       "      <td>22.88</td>\n",
       "      <td>1</td>\n",
       "      <td>1</td>\n",
       "    </tr>\n",
       "    <tr>\n",
       "      <th>2</th>\n",
       "      <td>2</td>\n",
       "      <td>2017-02-05 00:00:02</td>\n",
       "      <td>2017-02-05 00:13:21</td>\n",
       "      <td>N</td>\n",
       "      <td>1</td>\n",
       "      <td>260</td>\n",
       "      <td>95</td>\n",
       "      <td>1</td>\n",
       "      <td>3.61</td>\n",
       "      <td>13.0</td>\n",
       "      <td>0.5</td>\n",
       "      <td>0.5</td>\n",
       "      <td>0.00</td>\n",
       "      <td>0.0</td>\n",
       "      <td>NaN</td>\n",
       "      <td>0.3</td>\n",
       "      <td>14.30</td>\n",
       "      <td>2</td>\n",
       "      <td>1</td>\n",
       "    </tr>\n",
       "    <tr>\n",
       "      <th>3</th>\n",
       "      <td>2</td>\n",
       "      <td>2017-02-05 00:00:03</td>\n",
       "      <td>2017-02-05 00:08:42</td>\n",
       "      <td>N</td>\n",
       "      <td>1</td>\n",
       "      <td>181</td>\n",
       "      <td>65</td>\n",
       "      <td>1</td>\n",
       "      <td>1.51</td>\n",
       "      <td>7.5</td>\n",
       "      <td>0.5</td>\n",
       "      <td>0.5</td>\n",
       "      <td>3.00</td>\n",
       "      <td>0.0</td>\n",
       "      <td>NaN</td>\n",
       "      <td>0.3</td>\n",
       "      <td>11.80</td>\n",
       "      <td>1</td>\n",
       "      <td>1</td>\n",
       "    </tr>\n",
       "    <tr>\n",
       "      <th>4</th>\n",
       "      <td>2</td>\n",
       "      <td>2017-02-05 00:00:04</td>\n",
       "      <td>2017-02-05 00:13:58</td>\n",
       "      <td>N</td>\n",
       "      <td>1</td>\n",
       "      <td>255</td>\n",
       "      <td>181</td>\n",
       "      <td>6</td>\n",
       "      <td>6.68</td>\n",
       "      <td>20.5</td>\n",
       "      <td>0.5</td>\n",
       "      <td>0.5</td>\n",
       "      <td>4.36</td>\n",
       "      <td>0.0</td>\n",
       "      <td>NaN</td>\n",
       "      <td>0.3</td>\n",
       "      <td>26.16</td>\n",
       "      <td>1</td>\n",
       "      <td>1</td>\n",
       "    </tr>\n",
       "  </tbody>\n",
       "</table>\n",
       "</div>"
      ],
      "text/plain": [
       "   VendorID lpep_pickup_datetime lpep_dropoff_datetime store_and_fwd_flag  \\\n",
       "0         2  2017-02-05 00:00:00   2017-02-05 00:00:00                  N   \n",
       "1         2  2017-02-05 00:00:00   2017-02-05 00:00:00                  N   \n",
       "2         2  2017-02-05 00:00:02   2017-02-05 00:13:21                  N   \n",
       "3         2  2017-02-05 00:00:03   2017-02-05 00:08:42                  N   \n",
       "4         2  2017-02-05 00:00:04   2017-02-05 00:13:58                  N   \n",
       "\n",
       "   RatecodeID  PULocationID  DOLocationID  passenger_count  trip_distance  \\\n",
       "0           1           181           181                1           1.34   \n",
       "1           1             7            82                1           5.61   \n",
       "2           1           260            95                1           3.61   \n",
       "3           1           181            65                1           1.51   \n",
       "4           1           255           181                6           6.68   \n",
       "\n",
       "   fare_amount  extra  mta_tax  tip_amount  tolls_amount  ehail_fee  \\\n",
       "0          7.0    0.5      0.5        0.00           0.0        NaN   \n",
       "1         20.0    0.0      0.5        2.08           0.0        NaN   \n",
       "2         13.0    0.5      0.5        0.00           0.0        NaN   \n",
       "3          7.5    0.5      0.5        3.00           0.0        NaN   \n",
       "4         20.5    0.5      0.5        4.36           0.0        NaN   \n",
       "\n",
       "   improvement_surcharge  total_amount  payment_type  trip_type  \n",
       "0                    0.3          8.30             2          1  \n",
       "1                    0.3         22.88             1          1  \n",
       "2                    0.3         14.30             2          1  \n",
       "3                    0.3         11.80             1          1  \n",
       "4                    0.3         26.16             1          1  "
      ]
     },
     "execution_count": 3,
     "metadata": {},
     "output_type": "execute_result"
    }
   ],
   "source": [
    "taxi.head()"
   ]
  },
  {
   "cell_type": "code",
   "execution_count": 4,
   "metadata": {},
   "outputs": [
    {
     "data": {
      "text/plain": [
       "0         7.0\n",
       "1        20.0\n",
       "2        13.0\n",
       "3         7.5\n",
       "4        20.5\n",
       "5         4.5\n",
       "6         5.5\n",
       "7         7.0\n",
       "8         6.0\n",
       "9         7.0\n",
       "10        5.0\n",
       "11       17.5\n",
       "12       11.0\n",
       "13       13.5\n",
       "14        7.0\n",
       "15       26.0\n",
       "16       20.5\n",
       "17        5.0\n",
       "18        5.0\n",
       "19       18.0\n",
       "20        5.0\n",
       "21        9.5\n",
       "22        6.5\n",
       "23        9.0\n",
       "24        5.5\n",
       "25       10.5\n",
       "26       18.0\n",
       "27       20.0\n",
       "28       11.5\n",
       "29        7.5\n",
       "         ... \n",
       "37868    17.0\n",
       "37869     8.5\n",
       "37870    11.0\n",
       "37871     8.5\n",
       "37872    10.5\n",
       "37873    20.0\n",
       "37874    12.5\n",
       "37875    23.0\n",
       "37876     7.0\n",
       "37877     6.5\n",
       "37878     6.5\n",
       "37879     5.0\n",
       "37880    13.0\n",
       "37881     6.5\n",
       "37882     6.5\n",
       "37883    21.0\n",
       "37884    17.0\n",
       "37885     3.5\n",
       "37886     6.0\n",
       "37887    13.5\n",
       "37888    10.0\n",
       "37889    10.0\n",
       "37890    13.0\n",
       "37891    17.5\n",
       "37892     7.0\n",
       "37893     7.0\n",
       "37894    16.5\n",
       "37895     8.0\n",
       "37896     7.0\n",
       "37897     6.5\n",
       "Name: fare_amount, Length: 37898, dtype: float64"
      ]
     },
     "execution_count": 4,
     "metadata": {},
     "output_type": "execute_result"
    }
   ],
   "source": [
    "taxi[\"fare_amount\"]"
   ]
  },
  {
   "cell_type": "code",
   "execution_count": 5,
   "metadata": {},
   "outputs": [
    {
     "data": {
      "text/plain": [
       " 6.00      2038\n",
       " 5.50      2027\n",
       " 5.00      1954\n",
       " 6.50      1938\n",
       " 7.00      1860\n",
       " 7.50      1645\n",
       " 4.50      1571\n",
       " 8.00      1533\n",
       " 8.50      1346\n",
       " 9.00      1280\n",
       " 10.00     1211\n",
       " 9.50      1129\n",
       " 10.50     1094\n",
       " 4.00      1038\n",
       " 11.00      972\n",
       " 12.00      923\n",
       " 11.50      894\n",
       " 12.50      770\n",
       " 13.00      730\n",
       " 13.50      669\n",
       " 14.00      663\n",
       " 15.00      582\n",
       " 14.50      562\n",
       " 3.50       550\n",
       " 15.50      496\n",
       " 16.00      471\n",
       " 17.00      438\n",
       " 16.50      436\n",
       " 17.50      384\n",
       " 18.00      375\n",
       "           ... \n",
       " 9.20         1\n",
       " 83.50        1\n",
       "-6.50         1\n",
       " 75.00        1\n",
       " 8.80         1\n",
       " 59.50        1\n",
       "-8.50         1\n",
       " 95.00        1\n",
       " 79.00        1\n",
       " 35.55        1\n",
       " 76.00        1\n",
       " 7.20         1\n",
       " 52.50        1\n",
       " 82.50        1\n",
       " 61.50        1\n",
       " 34.20        1\n",
       " 73.00        1\n",
       " 21.80        1\n",
       " 90.00        1\n",
       " 86.00        1\n",
       " 86.50        1\n",
       " 9.80         1\n",
       " 126.00       1\n",
       " 14.70        1\n",
       " 106.00       1\n",
       " 1.20         1\n",
       " 81.00        1\n",
       " 100.74       1\n",
       " 68.90        1\n",
       "-39.00        1\n",
       "Name: fare_amount, Length: 194, dtype: int64"
      ]
     },
     "execution_count": 5,
     "metadata": {},
     "output_type": "execute_result"
    }
   ],
   "source": [
    "taxi[\"fare_amount\"].value_counts()"
   ]
  },
  {
   "cell_type": "code",
   "execution_count": 6,
   "metadata": {},
   "outputs": [],
   "source": [
    "fare_counts = taxi[\"fare_amount\"].value_counts()"
   ]
  },
  {
   "cell_type": "code",
   "execution_count": 9,
   "metadata": {},
   "outputs": [
    {
     "data": {
      "text/plain": [
       "<matplotlib.axes._subplots.AxesSubplot at 0x7f8ba34eae48>"
      ]
     },
     "execution_count": 9,
     "metadata": {},
     "output_type": "execute_result"
    },
    {
     "data": {
      "image/png": "[encoded data removed]",
      "text/plain": [
       "<Figure size 432x288 with 1 Axes>"
      ]
     },
     "metadata": {},
     "output_type": "display_data"
    }
   ],
   "source": [
    "taxi[\"fare_amount\"].hist()"
   ]
  },
  {
   "cell_type": "code",
   "execution_count": 13,
   "metadata": {},
   "outputs": [
    {
     "data": {
      "text/plain": [
       "Text(0.5,1,\"Green Taxi's Fare Amount Between Passengers\")"
      ]
     },
     "execution_count": 13,
     "metadata": {},
     "output_type": "execute_result"
    },
    {
     "data": {
      "image/png": "[encoded data removed]",
      "text/plain": [
       "<Figure size 432x288 with 1 Axes>"
      ]
     },
     "metadata": {},
     "output_type": "display_data"
    }
   ],
   "source": [
    "taxi[\"fare_amount\"].hist()\n",
    "plt.xlabel(\"Fare Amount ($)\")\n",
    "plt.ylabel(\"Number of Trips\")\n",
    "plt.title(\"Green Taxi's Fare Amount Between Passengers\")"
   ]
  },
  {
   "cell_type": "code",
   "execution_count": 12,
   "metadata": {},
   "outputs": [
    {
     "data": {
      "text/plain": [
       "Text(0.5,1,\"Green Taxi's Fare Amount Between Passengers\")"
      ]
     },
     "execution_count": 12,
     "metadata": {},
     "output_type": "execute_result"
    },
    {
     "data": {
      "image/png": "[encoded data removed]",
      "text/plain": [
       "<Figure size 432x288 with 1 Axes>"
      ]
     },
     "metadata": {},
     "output_type": "display_data"
    }
   ],
   "source": [
    "taxi[\"fare_amount\"].hist(bins = 20)\n",
    "plt.xlabel(\"Fare Amount ($)\")\n",
    "plt.ylabel(\"Number of Trips\")\n",
    "plt.title(\"Green Taxi's Fare Amount Between Passengers\")"
   ]
  },
  {
   "cell_type": "markdown",
   "metadata": {},
   "source": [
    "1. Describe the shape of the distribution of fare amounts.  That is, which fare amounts are common and which are not?  If you want to write a \\$, type \\\\\n",
    "2. Do you notice anything unexpected or odd about this graph?\n",
    "\n",
    "Write your answer below."
   ]
  },
  {
   "cell_type": "markdown",
   "metadata": {},
   "source": [
    "1.The shape of the distribution of fare amounts is a L shape. The fare amount that is most common are the ones that go from $0 - $25. The least common ones are the trips with fares greater that $25.\n",
    "2.Yes, there are negative intervals in the x-axis of the graph and also there trips recorded for fares below 0."
   ]
  },
  {
   "cell_type": "markdown",
   "metadata": {},
   "source": [
    " "
   ]
  }
 ],
 "metadata": {
  "kernelspec": {
   "display_name": "Python 3",
   "language": "python",
   "name": "python3"
  },
  "language_info": {
   "codemirror_mode": {
    "name": "ipython",
    "version": 3
   },
   "file_extension": ".py",
   "mimetype": "text/x-python",
   "name": "python",
   "nbconvert_exporter": "python",
   "pygments_lexer": "ipython3",
   "version": "3.4.8"
  }
 },
 "nbformat": 4,
 "nbformat_minor": 2
}
