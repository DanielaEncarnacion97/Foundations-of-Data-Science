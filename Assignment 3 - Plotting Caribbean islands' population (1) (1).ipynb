{
 "cells": [
  {
   "cell_type": "markdown",
   "metadata": {},
   "source": [
    "*Replace this text with your own name and a brief description of what this notebook does.*"
   ]
  },
  {
   "cell_type": "markdown",
   "metadata": {},
   "source": [
    "## Assignment 3\n",
    "\n",
    "Write a piece of code that plots the historical populations of Cuba, Dominican Republic, Haiti, and Puerto Rico using the data in the file [islandsHistPop.csv](http://comet.lehman.cuny.edu/owen/teaching/mat128/islandsHistPop.csv).  You may add as many code cells as you need.\n",
    "\n",
    "<details> <summary>Hint:</summary>\n",
    "Look at the data file.  Are there any differences from the file in Lab 1 that we need to account for when reading in the file? \n",
    "</details>"
   ]
  },
  {
   "cell_type": "code",
   "execution_count": 2,
   "metadata": {},
   "outputs": [],
   "source": [
    "import matplotlib as plt"
   ]
  },
  {
   "cell_type": "code",
   "execution_count": 3,
   "metadata": {},
   "outputs": [],
   "source": [
    "import pandas as pd"
   ]
  },
  {
   "cell_type": "markdown",
   "metadata": {},
   "source": [
    "1. Which island has the largest population?\n",
    "2. When did the population of the Dominican Republic pass that of Haiti?\n",
    "\n",
    "Write your answers below."
   ]
  },
  {
   "cell_type": "code",
   "execution_count": 5,
   "metadata": {},
   "outputs": [],
   "source": [
    "island = pd.read_csv(\"islandsHistPop.csv\", skiprows= 3)"
   ]
  },
  {
   "cell_type": "markdown",
   "metadata": {},
   "source": [
    " "
   ]
  },
  {
   "cell_type": "code",
   "execution_count": 6,
   "metadata": {},
   "outputs": [
    {
     "name": "stdout",
     "output_type": "stream",
     "text": [
      "    Year      Cuba  Dominican Republic    Haiti  Puerto Rico\n",
      "0   1850    907200              136500   543000       380000\n",
      "1   1860   1099400              200000   572000       583300\n",
      "2   1870   1321700              290000   686000       625000\n",
      "3   1880   1409900              300000   880000       754300\n",
      "4   1890   1609100              340000  1085300       839000\n",
      "5   1900   1600000              600000  1294400       986000\n",
      "6   1910   2219000              740000  2029700      1118000\n",
      "7   1920   2997000              879000  1631300      1299800\n",
      "8   1930   3647000             1256000  2380000      1543900\n",
      "9   1940   4291100             1674000  2751000      1869300\n",
      "10  1950   5516000             2353000  3097000      2210700\n",
      "11  1960   7027000             3231000  3623000      2349500\n",
      "12  1970   8569100             4423000  4235000      2712000\n",
      "13  1980   9724000             5697000  5353000      3196500\n",
      "14  1990  10694500             7170000  6486000      3522000\n",
      "15  2000  11142000             8442500  7180300      3808600\n",
      "16  2010  11925000             9335000  8854000      4169000\n",
      "17  2015  12205000             9900000  9434000      4287000\n"
     ]
    }
   ],
   "source": [
    "print(island)"
   ]
  },
  {
   "cell_type": "code",
   "execution_count": 7,
   "metadata": {},
   "outputs": [
    {
     "data": {
      "text/plain": [
       "<bound method DataFrame.head of     Year      Cuba  Dominican Republic    Haiti  Puerto Rico\n",
       "0   1850    907200              136500   543000       380000\n",
       "1   1860   1099400              200000   572000       583300\n",
       "2   1870   1321700              290000   686000       625000\n",
       "3   1880   1409900              300000   880000       754300\n",
       "4   1890   1609100              340000  1085300       839000\n",
       "5   1900   1600000              600000  1294400       986000\n",
       "6   1910   2219000              740000  2029700      1118000\n",
       "7   1920   2997000              879000  1631300      1299800\n",
       "8   1930   3647000             1256000  2380000      1543900\n",
       "9   1940   4291100             1674000  2751000      1869300\n",
       "10  1950   5516000             2353000  3097000      2210700\n",
       "11  1960   7027000             3231000  3623000      2349500\n",
       "12  1970   8569100             4423000  4235000      2712000\n",
       "13  1980   9724000             5697000  5353000      3196500\n",
       "14  1990  10694500             7170000  6486000      3522000\n",
       "15  2000  11142000             8442500  7180300      3808600\n",
       "16  2010  11925000             9335000  8854000      4169000\n",
       "17  2015  12205000             9900000  9434000      4287000>"
      ]
     },
     "execution_count": 7,
     "metadata": {},
     "output_type": "execute_result"
    }
   ],
   "source": [
    "island.head"
   ]
  },
  {
   "cell_type": "code",
   "execution_count": 9,
   "metadata": {},
   "outputs": [
    {
     "data": {
      "text/plain": [
       "<matplotlib.axes._subplots.AxesSubplot at 0x7f6789a4e2b0>"
      ]
     },
     "execution_count": 9,
     "metadata": {},
     "output_type": "execute_result"
    },
    {
     "data": {
      "image/png": "[encoded data removed]",
      "text/plain": [
       "<Figure size 432x288 with 1 Axes>"
      ]
     },
     "metadata": {},
     "output_type": "display_data"
    }
   ],
   "source": [
    "island.plot(x = \"Year\")"
   ]
  },
  {
   "cell_type": "markdown",
   "metadata": {},
   "source": [
    "1)Which island has the largest population?\n",
    "2)When did the population of the Dominican Republic pass that of Haiti?\n",
    "\n",
    "1)The island that has the largest population is Cuba.\n",
    "2)The population of the Dominican Republic pass around 1975.\n"
   ]
  }
 ],
 "metadata": {
  "kernelspec": {
   "display_name": "Python 3",
   "language": "python",
   "name": "python3"
  },
  "language_info": {
   "codemirror_mode": {
    "name": "ipython",
    "version": 3
   },
   "file_extension": ".py",
   "mimetype": "text/x-python",
   "name": "python",
   "nbconvert_exporter": "python",
   "pygments_lexer": "ipython3",
   "version": "3.4.8"
  }
 },
 "nbformat": 4,
 "nbformat_minor": 2
}
