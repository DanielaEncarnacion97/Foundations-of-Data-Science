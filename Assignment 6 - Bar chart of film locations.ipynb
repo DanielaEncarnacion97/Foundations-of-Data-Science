{
 "cells": [
  {
   "cell_type": "markdown",
   "metadata": {},
   "source": [
    "Daniela Encarnacion"
   ]
  },
  {
   "cell_type": "markdown",
   "metadata": {},
   "source": [
    "## Assignment 6\n",
    "\n",
    "NYC Open Data has a dataset of all film permits issued by the city since Jan. 1, 2012: [https://data.cityofnewyork.us/City-Government/Film-Permits/tg4x-b46p](https://data.cityofnewyork.us/City-Government/Film-Permits/tg4x-b46p) \n",
    "\n",
    "The CSV file can be downloaded directly here: [Film_Permits.csv](http://comet.lehman.cuny.edu/owen/teaching/mat128/Film_Permits.csv)  As in the labs, you should upload the CSV file to Jupyter Hub before starting the assignment.\n",
    "\n",
    "Write a piece of code that creates a bar chart of how many permits were issued for each borough.  "
   ]
  },
  {
   "cell_type": "code",
   "execution_count": 1,
   "metadata": {},
   "outputs": [],
   "source": [
    "import matplotlib.pyplot as plt\n",
    "import pandas as pd\n",
    "%matplotlib inline"
   ]
  },
  {
   "cell_type": "code",
   "execution_count": 3,
   "metadata": {},
   "outputs": [],
   "source": [
    "film = pd.read_csv(\"Film_Permits.csv\")"
   ]
  },
  {
   "cell_type": "code",
   "execution_count": 4,
   "metadata": {},
   "outputs": [
    {
     "data": {
      "text/html": [
       "<div>\n",
       "<style scoped>\n",
       "    .dataframe tbody tr th:only-of-type {\n",
       "        vertical-align: middle;\n",
       "    }\n",
       "\n",
       "    .dataframe tbody tr th {\n",
       "        vertical-align: top;\n",
       "    }\n",
       "\n",
       "    .dataframe thead th {\n",
       "        text-align: right;\n",
       "    }\n",
       "</style>\n",
       "<table border=\"1\" class=\"dataframe\">\n",
       "  <thead>\n",
       "    <tr style=\"text-align: right;\">\n",
       "      <th></th>\n",
       "      <th>EventID</th>\n",
       "      <th>EventType</th>\n",
       "      <th>StartDateTime</th>\n",
       "      <th>EndDateTime</th>\n",
       "      <th>EnteredOn</th>\n",
       "      <th>EventAgency</th>\n",
       "      <th>ParkingHeld</th>\n",
       "      <th>Borough</th>\n",
       "      <th>CommunityBoard(s)</th>\n",
       "      <th>PolicePrecinct(s)</th>\n",
       "      <th>Category</th>\n",
       "      <th>SubCategoryName</th>\n",
       "      <th>Country</th>\n",
       "      <th>ZipCode(s)</th>\n",
       "    </tr>\n",
       "  </thead>\n",
       "  <tbody>\n",
       "    <tr>\n",
       "      <th>0</th>\n",
       "      <td>446168</td>\n",
       "      <td>Shooting Permit</td>\n",
       "      <td>10/19/2018 02:00:00 PM</td>\n",
       "      <td>10/20/2018 02:00:00 AM</td>\n",
       "      <td>10/16/2018 07:03:56 PM</td>\n",
       "      <td>Mayor's Office of Film, Theatre &amp; Broadcasting</td>\n",
       "      <td>MARBLE HILL AVENUE between WEST  227 STREET an...</td>\n",
       "      <td>Manhattan</td>\n",
       "      <td>12, 8</td>\n",
       "      <td>34, 50</td>\n",
       "      <td>Film</td>\n",
       "      <td>Feature</td>\n",
       "      <td>United States of America</td>\n",
       "      <td>10034, 10463</td>\n",
       "    </tr>\n",
       "    <tr>\n",
       "      <th>1</th>\n",
       "      <td>446318</td>\n",
       "      <td>Shooting Permit</td>\n",
       "      <td>10/20/2018 07:00:00 AM</td>\n",
       "      <td>10/20/2018 07:00:00 PM</td>\n",
       "      <td>10/17/2018 05:17:25 PM</td>\n",
       "      <td>Mayor's Office of Film, Theatre &amp; Broadcasting</td>\n",
       "      <td>PARK AVENUE between EAST   52 STREET and EAST ...</td>\n",
       "      <td>Manhattan</td>\n",
       "      <td>5</td>\n",
       "      <td>18</td>\n",
       "      <td>Still Photography</td>\n",
       "      <td>Not Applicable</td>\n",
       "      <td>United States of America</td>\n",
       "      <td>10017, 10022, 10152, 10171</td>\n",
       "    </tr>\n",
       "    <tr>\n",
       "      <th>2</th>\n",
       "      <td>446350</td>\n",
       "      <td>Shooting Permit</td>\n",
       "      <td>10/19/2018 04:00:00 PM</td>\n",
       "      <td>10/20/2018 06:00:00 AM</td>\n",
       "      <td>10/18/2018 09:32:25 AM</td>\n",
       "      <td>Mayor's Office of Film, Theatre &amp; Broadcasting</td>\n",
       "      <td>EAST   26 STREET between MADISON AVENUE and 5 ...</td>\n",
       "      <td>Manhattan</td>\n",
       "      <td>5, 6</td>\n",
       "      <td>13, 18, 78</td>\n",
       "      <td>Commercial</td>\n",
       "      <td>Commercial</td>\n",
       "      <td>United States of America</td>\n",
       "      <td>10010, 10022, 11217</td>\n",
       "    </tr>\n",
       "    <tr>\n",
       "      <th>3</th>\n",
       "      <td>446506</td>\n",
       "      <td>DCAS Prep/Shoot/Wrap Permit</td>\n",
       "      <td>10/20/2018 01:00:00 AM</td>\n",
       "      <td>10/20/2018 08:00:00 PM</td>\n",
       "      <td>10/18/2018 06:14:56 PM</td>\n",
       "      <td>Mayor's Office of Film, Theatre &amp; Broadcasting</td>\n",
       "      <td>JORALEMON STREET between ADAMS STREET and COUR...</td>\n",
       "      <td>Brooklyn</td>\n",
       "      <td>2</td>\n",
       "      <td>84</td>\n",
       "      <td>Film</td>\n",
       "      <td>Feature</td>\n",
       "      <td>United States of America</td>\n",
       "      <td>11201</td>\n",
       "    </tr>\n",
       "    <tr>\n",
       "      <th>4</th>\n",
       "      <td>446359</td>\n",
       "      <td>Shooting Permit</td>\n",
       "      <td>10/20/2018 12:01:00 AM</td>\n",
       "      <td>10/20/2018 12:00:00 PM</td>\n",
       "      <td>10/18/2018 09:57:16 AM</td>\n",
       "      <td>Mayor's Office of Film, Theatre &amp; Broadcasting</td>\n",
       "      <td>WEST   48 STREET between 6 AVENUE and 7 AVENUE</td>\n",
       "      <td>Manhattan</td>\n",
       "      <td>5</td>\n",
       "      <td>18</td>\n",
       "      <td>Television</td>\n",
       "      <td>News</td>\n",
       "      <td>United States of America</td>\n",
       "      <td>10036, 10105</td>\n",
       "    </tr>\n",
       "  </tbody>\n",
       "</table>\n",
       "</div>"
      ],
      "text/plain": [
       "   EventID                    EventType           StartDateTime  \\\n",
       "0   446168              Shooting Permit  10/19/2018 02:00:00 PM   \n",
       "1   446318              Shooting Permit  10/20/2018 07:00:00 AM   \n",
       "2   446350              Shooting Permit  10/19/2018 04:00:00 PM   \n",
       "3   446506  DCAS Prep/Shoot/Wrap Permit  10/20/2018 01:00:00 AM   \n",
       "4   446359              Shooting Permit  10/20/2018 12:01:00 AM   \n",
       "\n",
       "              EndDateTime               EnteredOn  \\\n",
       "0  10/20/2018 02:00:00 AM  10/16/2018 07:03:56 PM   \n",
       "1  10/20/2018 07:00:00 PM  10/17/2018 05:17:25 PM   \n",
       "2  10/20/2018 06:00:00 AM  10/18/2018 09:32:25 AM   \n",
       "3  10/20/2018 08:00:00 PM  10/18/2018 06:14:56 PM   \n",
       "4  10/20/2018 12:00:00 PM  10/18/2018 09:57:16 AM   \n",
       "\n",
       "                                      EventAgency  \\\n",
       "0  Mayor's Office of Film, Theatre & Broadcasting   \n",
       "1  Mayor's Office of Film, Theatre & Broadcasting   \n",
       "2  Mayor's Office of Film, Theatre & Broadcasting   \n",
       "3  Mayor's Office of Film, Theatre & Broadcasting   \n",
       "4  Mayor's Office of Film, Theatre & Broadcasting   \n",
       "\n",
       "                                         ParkingHeld    Borough  \\\n",
       "0  MARBLE HILL AVENUE between WEST  227 STREET an...  Manhattan   \n",
       "1  PARK AVENUE between EAST   52 STREET and EAST ...  Manhattan   \n",
       "2  EAST   26 STREET between MADISON AVENUE and 5 ...  Manhattan   \n",
       "3  JORALEMON STREET between ADAMS STREET and COUR...   Brooklyn   \n",
       "4     WEST   48 STREET between 6 AVENUE and 7 AVENUE  Manhattan   \n",
       "\n",
       "  CommunityBoard(s) PolicePrecinct(s)           Category SubCategoryName  \\\n",
       "0             12, 8            34, 50               Film         Feature   \n",
       "1                 5                18  Still Photography  Not Applicable   \n",
       "2              5, 6        13, 18, 78         Commercial      Commercial   \n",
       "3                 2                84               Film         Feature   \n",
       "4                 5                18         Television            News   \n",
       "\n",
       "                    Country                  ZipCode(s)  \n",
       "0  United States of America                10034, 10463  \n",
       "1  United States of America  10017, 10022, 10152, 10171  \n",
       "2  United States of America         10010, 10022, 11217  \n",
       "3  United States of America                       11201  \n",
       "4  United States of America                10036, 10105  "
      ]
     },
     "execution_count": 4,
     "metadata": {},
     "output_type": "execute_result"
    }
   ],
   "source": [
    "film.head()"
   ]
  },
  {
   "cell_type": "code",
   "execution_count": 7,
   "metadata": {},
   "outputs": [
    {
     "data": {
      "text/plain": [
       "0                      Shooting Permit\n",
       "1                      Shooting Permit\n",
       "2                      Shooting Permit\n",
       "3          DCAS Prep/Shoot/Wrap Permit\n",
       "4                      Shooting Permit\n",
       "5                      Shooting Permit\n",
       "6                      Shooting Permit\n",
       "7                      Shooting Permit\n",
       "8                      Shooting Permit\n",
       "9          DCAS Prep/Shoot/Wrap Permit\n",
       "10                     Shooting Permit\n",
       "11       Theater Load in and Load Outs\n",
       "12                     Shooting Permit\n",
       "13                     Shooting Permit\n",
       "14                     Shooting Permit\n",
       "15                     Shooting Permit\n",
       "16                     Shooting Permit\n",
       "17       Theater Load in and Load Outs\n",
       "18                     Shooting Permit\n",
       "19         DCAS Prep/Shoot/Wrap Permit\n",
       "20       Theater Load in and Load Outs\n",
       "21       Theater Load in and Load Outs\n",
       "22                     Shooting Permit\n",
       "23                     Shooting Permit\n",
       "24       Theater Load in and Load Outs\n",
       "25                     Shooting Permit\n",
       "26                     Shooting Permit\n",
       "27       Theater Load in and Load Outs\n",
       "28       Theater Load in and Load Outs\n",
       "29                     Shooting Permit\n",
       "                     ...              \n",
       "39739                  Shooting Permit\n",
       "39740                  Shooting Permit\n",
       "39741                  Shooting Permit\n",
       "39742                  Shooting Permit\n",
       "39743                  Shooting Permit\n",
       "39744                  Shooting Permit\n",
       "39745                   Rigging Permit\n",
       "39746                  Shooting Permit\n",
       "39747                  Shooting Permit\n",
       "39748                  Shooting Permit\n",
       "39749                  Shooting Permit\n",
       "39750                  Shooting Permit\n",
       "39751                  Shooting Permit\n",
       "39752                  Shooting Permit\n",
       "39753                  Shooting Permit\n",
       "39754                  Shooting Permit\n",
       "39755      DCAS Prep/Shoot/Wrap Permit\n",
       "39756                  Shooting Permit\n",
       "39757                  Shooting Permit\n",
       "39758    Theater Load in and Load Outs\n",
       "39759                  Shooting Permit\n",
       "39760      DCAS Prep/Shoot/Wrap Permit\n",
       "39761                  Shooting Permit\n",
       "39762                  Shooting Permit\n",
       "39763                  Shooting Permit\n",
       "39764                  Shooting Permit\n",
       "39765                   Rigging Permit\n",
       "39766                  Shooting Permit\n",
       "39767                  Shooting Permit\n",
       "39768                  Shooting Permit\n",
       "Name: EventType, Length: 39769, dtype: object"
      ]
     },
     "execution_count": 7,
     "metadata": {},
     "output_type": "execute_result"
    }
   ],
   "source": [
    "film[\"EventType\"]"
   ]
  },
  {
   "cell_type": "code",
   "execution_count": 8,
   "metadata": {},
   "outputs": [
    {
     "data": {
      "text/plain": [
       "Shooting Permit                  35028\n",
       "Theater Load in and Load Outs     3237\n",
       "Rigging Permit                    1013\n",
       "DCAS Prep/Shoot/Wrap Permit        491\n",
       "Name: EventType, dtype: int64"
      ]
     },
     "execution_count": 8,
     "metadata": {},
     "output_type": "execute_result"
    }
   ],
   "source": [
    "film[\"EventType\"].value_counts()"
   ]
  },
  {
   "cell_type": "code",
   "execution_count": 9,
   "metadata": {},
   "outputs": [],
   "source": [
    "film_counts = film[\"EventType\"].value_counts()"
   ]
  },
  {
   "cell_type": "code",
   "execution_count": 10,
   "metadata": {},
   "outputs": [
    {
     "data": {
      "text/plain": [
       "<matplotlib.axes._subplots.AxesSubplot at 0x7f38c653f518>"
      ]
     },
     "execution_count": 10,
     "metadata": {},
     "output_type": "execute_result"
    },
    {
     "data": {
      "image/png": "[encoded data removed]",
      "text/plain": [
       "<Figure size 432x288 with 1 Axes>"
      ]
     },
     "metadata": {},
     "output_type": "display_data"
    }
   ],
   "source": [
    "film_counts.plot(kind = \"bar\")"
   ]
  },
  {
   "cell_type": "code",
   "execution_count": 12,
   "metadata": {},
   "outputs": [
    {
     "data": {
      "text/plain": [
       "Text(0.5,1,'Film Permits')"
      ]
     },
     "execution_count": 12,
     "metadata": {},
     "output_type": "execute_result"
    },
    {
     "data": {
      "image/png": "[encoded data removed]",
      "text/plain": [
       "<Figure size 432x288 with 1 Axes>"
      ]
     },
     "metadata": {},
     "output_type": "display_data"
    }
   ],
   "source": [
    "film_counts.plot(kind = \"barh\")\n",
    "plt.xlabel(\"Amount of Permits Issued\")\n",
    "plt.ylabel(\"Permits\")\n",
    "plt.title(\"Film Permits\")"
   ]
  },
  {
   "cell_type": "code",
   "execution_count": 16,
   "metadata": {},
   "outputs": [
    {
     "data": {
      "text/plain": [
       "Manhattan        20143\n",
       "Brooklyn         11922\n",
       "Queens            6145\n",
       "Bronx             1069\n",
       "Staten Island      490\n",
       "Name: Borough, dtype: int64"
      ]
     },
     "execution_count": 16,
     "metadata": {},
     "output_type": "execute_result"
    }
   ],
   "source": [
    "film[\"Borough\"].value_counts()"
   ]
  },
  {
   "cell_type": "code",
   "execution_count": 17,
   "metadata": {},
   "outputs": [],
   "source": [
    "Borough_counts = film[\"Borough\"].value_counts()"
   ]
  },
  {
   "cell_type": "code",
   "execution_count": 18,
   "metadata": {},
   "outputs": [
    {
     "data": {
      "text/plain": [
       "<matplotlib.axes._subplots.AxesSubplot at 0x7f38c6450470>"
      ]
     },
     "execution_count": 18,
     "metadata": {},
     "output_type": "execute_result"
    },
    {
     "data": {
      "image/png": "[encoded data removed]",
      "text/plain": [
       "<Figure size 432x288 with 1 Axes>"
      ]
     },
     "metadata": {},
     "output_type": "display_data"
    }
   ],
   "source": [
    "Borough_counts.plot(kind = \"bar\")"
   ]
  },
  {
   "cell_type": "code",
   "execution_count": 19,
   "metadata": {},
   "outputs": [
    {
     "data": {
      "text/plain": [
       "Text(0.5,1,'Permits Issued Per Borough')"
      ]
     },
     "execution_count": 19,
     "metadata": {},
     "output_type": "execute_result"
    },
    {
     "data": {
      "image/png": "[encoded data removed]",
      "text/plain": [
       "<Figure size 432x288 with 1 Axes>"
      ]
     },
     "metadata": {},
     "output_type": "display_data"
    }
   ],
   "source": [
    "Borough_counts.plot(kind = \"bar\")\n",
    "plt.xlabel(\"Boroughs\")\n",
    "plt.ylabel(\"Amount of Permits Issue\")\n",
    "plt.title(\"Permits Issued Per Borough\")"
   ]
  },
  {
   "cell_type": "markdown",
   "metadata": {},
   "source": [
    "1. Which borough is most popular?\n",
    "2. How many film permits have been issued for the Bronx?\n",
    "\n",
    "Write your answer below."
   ]
  },
  {
   "cell_type": "markdown",
   "metadata": {},
   "source": [
    "1.Manhattan is the most popular borough.\n",
    "2.The film permits that have been issued for the Bronx is 1069."
   ]
  },
  {
   "cell_type": "markdown",
   "metadata": {},
   "source": [
    " "
   ]
  },
  {
   "cell_type": "markdown",
   "metadata": {},
   "source": [
    " "
   ]
  }
 ],
 "metadata": {
  "kernelspec": {
   "display_name": "Python 3",
   "language": "python",
   "name": "python3"
  },
  "language_info": {
   "codemirror_mode": {
    "name": "ipython",
    "version": 3
   },
   "file_extension": ".py",
   "mimetype": "text/x-python",
   "name": "python",
   "nbconvert_exporter": "python",
   "pygments_lexer": "ipython3",
   "version": "3.4.8"
  }
 },
 "nbformat": 4,
 "nbformat_minor": 2
}
